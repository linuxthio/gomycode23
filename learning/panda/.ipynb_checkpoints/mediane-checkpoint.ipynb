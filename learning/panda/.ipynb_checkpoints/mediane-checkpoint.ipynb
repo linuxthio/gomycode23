{
 "cells": [
  {
   "cell_type": "code",
   "execution_count": 8,
   "id": "4fe2b20d-4c31-422a-bc61-d54cff5b27bf",
   "metadata": {},
   "outputs": [],
   "source": [
    "a=[ 3, 5, 7, 12, 13, 14, 21 , 23 , 23, 23, 23, 29, 40, 56 ]\n"
   ]
  },
  {
   "cell_type": "code",
   "execution_count": 9,
   "id": "978a221a-f7e0-4f63-b0c1-b48125876435",
   "metadata": {},
   "outputs": [],
   "source": [
    "m=len(a)"
   ]
  },
  {
   "cell_type": "code",
   "execution_count": 10,
   "id": "18eecd54-df4b-4c15-af3f-bea95db42bc4",
   "metadata": {},
   "outputs": [
    {
     "data": {
      "text/plain": [
       "23"
      ]
     },
     "execution_count": 10,
     "metadata": {},
     "output_type": "execute_result"
    }
   ],
   "source": [
    "a[int(m/2)]"
   ]
  },
  {
   "cell_type": "code",
   "execution_count": 11,
   "id": "4d21f503-864b-4e12-9f3c-e88410c90fb0",
   "metadata": {},
   "outputs": [
    {
     "name": "stdout",
     "output_type": "stream",
     "text": [
      "0 3\n",
      "1 5\n",
      "2 7\n",
      "3 12\n",
      "4 13\n",
      "5 14\n",
      "6 21\n",
      "7 23\n",
      "8 23\n",
      "9 23\n",
      "10 23\n",
      "11 29\n",
      "12 40\n",
      "13 56\n"
     ]
    }
   ],
   "source": [
    "for i in range(len(a)):\n",
    "    print(i,a[i])"
   ]
  },
  {
   "cell_type": "code",
   "execution_count": 15,
   "id": "2e183b22-2b05-4e2c-a554-0b3582d9e7b6",
   "metadata": {},
   "outputs": [
    {
     "data": {
      "text/plain": [
       "22.0"
      ]
     },
     "execution_count": 15,
     "metadata": {},
     "output_type": "execute_result"
    }
   ],
   "source": [
    "def median(l):\n",
    "    l.sort()\n",
    "    if len(l)%2!=0:\n",
    "        return l[(len(l)-1)/2]\n",
    "    else:\n",
    "        n=len(l)\n",
    "        m2=int(n/2)\n",
    "        m1=int(m2-1)\n",
    "\n",
    "        return (l[m1]+l[m2])/2\n",
    "\n",
    "median(a)"
   ]
  },
  {
   "cell_type": "code",
   "execution_count": null,
   "id": "83450462-2347-40e9-af43-07a2af0b0709",
   "metadata": {},
   "outputs": [],
   "source": []
  }
 ],
 "metadata": {
  "kernelspec": {
   "display_name": "Python 3 (ipykernel)",
   "language": "python",
   "name": "python3"
  },
  "language_info": {
   "codemirror_mode": {
    "name": "ipython",
    "version": 3
   },
   "file_extension": ".py",
   "mimetype": "text/x-python",
   "name": "python",
   "nbconvert_exporter": "python",
   "pygments_lexer": "ipython3",
   "version": "3.11.3"
  }
 },
 "nbformat": 4,
 "nbformat_minor": 5
}
