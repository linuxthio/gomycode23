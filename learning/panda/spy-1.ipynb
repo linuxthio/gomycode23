{
 "cells": [
  {
   "cell_type": "code",
   "execution_count": 4,
   "id": "9faccbba-9272-4c5e-8db4-843ea50044c6",
   "metadata": {},
   "outputs": [],
   "source": [
    "import pandas as pd"
   ]
  },
  {
   "cell_type": "code",
   "execution_count": 8,
   "id": "2cd710b6-8758-4a8c-9edc-f055c22fe7d6",
   "metadata": {},
   "outputs": [],
   "source": [
    "data=pd.read_csv(\"superficie-africa.csv\")"
   ]
  },
  {
   "cell_type": "code",
   "execution_count": 10,
   "id": "a69c7198-62c9-46f6-ae85-825e70c184c0",
   "metadata": {},
   "outputs": [
    {
     "name": "stdout",
     "output_type": "stream",
     "text": [
      "<class 'pandas.core.frame.DataFrame'>\n",
      "RangeIndex: 58 entries, 0 to 57\n",
      "Data columns (total 5 columns):\n",
      " #   Column      Non-Null Count  Dtype  \n",
      "---  ------      --------------  -----  \n",
      " 0   Unnamed: 0  58 non-null     int64  \n",
      " 1   Classement  58 non-null     int64  \n",
      " 2   Pays        58 non-null     object \n",
      " 3   Eau         58 non-null     float64\n",
      " 4   Superficie  58 non-null     float64\n",
      "dtypes: float64(2), int64(2), object(1)\n",
      "memory usage: 2.4+ KB\n"
     ]
    }
   ],
   "source": [
    "data.info()"
   ]
  },
  {
   "cell_type": "code",
   "execution_count": null,
   "id": "b9914ab8-bfd5-49cd-9a2a-ff0a816dc02c",
   "metadata": {},
   "outputs": [],
   "source": []
  }
 ],
 "metadata": {
  "kernelspec": {
   "display_name": "Python 3 (Spyder)",
   "language": "python3",
   "name": "python3"
  },
  "language_info": {
   "codemirror_mode": {
    "name": "ipython",
    "version": 3
   },
   "file_extension": ".py",
   "mimetype": "text/x-python",
   "name": "python",
   "nbconvert_exporter": "python",
   "pygments_lexer": "ipython3",
   "version": "3.11.3"
  }
 },
 "nbformat": 4,
 "nbformat_minor": 5
}
