{
 "cells": [
  {
   "cell_type": "code",
   "execution_count": 2,
   "id": "e93fd729-5f1d-43be-b1c4-1c834279d63c",
   "metadata": {},
   "outputs": [],
   "source": [
    "import pandas as pd"
   ]
  },
  {
   "cell_type": "code",
   "execution_count": null,
   "id": "aaee1477-1ca1-4ff2-8f14-c31702db3580",
   "metadata": {},
   "outputs": [],
   "source": [
    "u=\"https://planificateur.a-contresens.net/afrique/classement_par_pays/superficie-AF.html\"\n",
    "data=pd.read_html(u)"
   ]
  },
  {
   "cell_type": "code",
   "execution_count": 8,
   "id": "ff61282f-d51a-45eb-8a14-b4686c0459b4",
   "metadata": {},
   "outputs": [],
   "source": [
    "data[0].to_excel(\"superficie-africa.xlsx\")"
   ]
  },
  {
   "cell_type": "code",
   "execution_count": null,
   "id": "47f2f77e-ae43-464e-b33e-e17024f641e1",
   "metadata": {},
   "outputs": [],
   "source": []
  }
 ],
 "metadata": {
  "kernelspec": {
   "display_name": "Python 3 (ipykernel)",
   "language": "python",
   "name": "python3"
  },
  "language_info": {
   "codemirror_mode": {
    "name": "ipython",
    "version": 3
   },
   "file_extension": ".py",
   "mimetype": "text/x-python",
   "name": "python",
   "nbconvert_exporter": "python",
   "pygments_lexer": "ipython3",
   "version": "3.11.3"
  }
 },
 "nbformat": 4,
 "nbformat_minor": 5
}
