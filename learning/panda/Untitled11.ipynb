{
 "cells": [
  {
   "cell_type": "code",
   "execution_count": 1,
   "id": "dd84558c-32f9-4003-9bc0-401cede2be53",
   "metadata": {},
   "outputs": [],
   "source": [
    "import pandas as pd"
   ]
  },
  {
   "cell_type": "code",
   "execution_count": 11,
   "id": "c6234743-b35f-4648-9fa2-8b81b6f047ec",
   "metadata": {},
   "outputs": [],
   "source": [
    "u=\"https://www.lemonde.fr/international/rss_full.xml\"\n",
    "data=pd.read_xml(u)"
   ]
  },
  {
   "cell_type": "code",
   "execution_count": 13,
   "id": "a631ec01-565d-4aae-9ff5-c7e4f45db86f",
   "metadata": {},
   "outputs": [
    {
     "name": "stdout",
     "output_type": "stream",
     "text": [
      "(1, 7)\n"
     ]
    }
   ],
   "source": [
    "print(data.shape)"
   ]
  },
  {
   "cell_type": "code",
   "execution_count": null,
   "id": "6f183bb9-9e23-4d7d-959e-a3ff8f6916bc",
   "metadata": {},
   "outputs": [],
   "source": []
  }
 ],
 "metadata": {
  "kernelspec": {
   "display_name": "Python 3 (ipykernel)",
   "language": "python",
   "name": "python3"
  },
  "language_info": {
   "name": ""
  }
 },
 "nbformat": 4,
 "nbformat_minor": 5
}
