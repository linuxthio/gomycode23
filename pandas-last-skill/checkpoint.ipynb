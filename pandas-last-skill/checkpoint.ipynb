{
 "cells": [
  {
   "cell_type": "code",
   "execution_count": null,
   "id": "017d8b2b-7d79-4d9b-9136-fd8f5e573fa5",
   "metadata": {},
   "outputs": [],
   "source": [
    "#Question 1"
   ]
  },
  {
   "cell_type": "code",
   "execution_count": 2,
   "id": "04e6c8ae",
   "metadata": {},
   "outputs": [
    {
     "name": "stdout",
     "output_type": "stream",
     "text": [
      "[2002, 2009, 2016, 2023, 2037, 2044, 2051, 2058, 2072, 2079, 2086, 2093, 2107, 2114, 2121, 2128, 2142, 2149, 2156, 2163, 2177, 2184, 2191, 2198, 2212, 2219, 2226, 2233, 2247, 2254, 2261, 2268, 2282, 2289, 2296, 2303, 2317, 2324, 2331, 2338, 2352, 2359, 2366, 2373, 2387, 2394, 2401, 2408, 2422, 2429, 2436, 2443, 2457, 2464, 2471, 2478, 2492, 2499, 2506, 2513, 2527, 2534, 2541, 2548, 2562, 2569, 2576, 2583, 2597, 2604, 2611, 2618, 2632, 2639, 2646, 2653, 2667, 2674, 2681, 2688, 2702, 2709, 2716, 2723, 2737, 2744, 2751, 2758, 2772, 2779, 2786, 2793, 2807, 2814, 2821, 2828, 2842, 2849, 2856, 2863, 2877, 2884, 2891, 2898, 2912, 2919, 2926, 2933, 2947, 2954, 2961, 2968, 2982, 2989, 2996, 3003, 3017, 3024, 3031, 3038, 3052, 3059, 3066, 3073, 3087, 3094, 3101, 3108, 3122, 3129, 3136, 3143, 3157, 3164, 3171, 3178, 3192, 3199]\n"
     ]
    }
   ],
   "source": [
    "nombre=[]\n",
    "for i in range(2000,3201):\n",
    "    if i%7==0 and i%5!=0:\n",
    "        nombre.append(i)\n",
    "print(nombre)\n",
    "        "
   ]
  },
  {
   "cell_type": "code",
   "execution_count": 3,
   "id": "89c499c8",
   "metadata": {},
   "outputs": [],
   "source": [
    "#Question 2"
   ]
  },
  {
   "cell_type": "code",
   "execution_count": 4,
   "id": "09b23a01",
   "metadata": {},
   "outputs": [
    {
     "name": "stdout",
     "output_type": "stream",
     "text": [
      "120\n"
     ]
    }
   ],
   "source": [
    "def factorial(n):\n",
    "    if n==0:\n",
    "        return 1\n",
    "    else:\n",
    "        return factorial(n-1)*n\n",
    "\n",
    "print(factorial(5))"
   ]
  },
  {
   "cell_type": "code",
   "execution_count": 5,
   "id": "3e854f31",
   "metadata": {},
   "outputs": [],
   "source": [
    "# Question 3"
   ]
  },
  {
   "cell_type": "code",
   "execution_count": 6,
   "id": "c857926e",
   "metadata": {},
   "outputs": [
    {
     "name": "stdout",
     "output_type": "stream",
     "text": [
      "{1: 1, 2: 4, 3: 9, 4: 16, 5: 25, 6: 36, 7: 49, 8: 64}\n"
     ]
    }
   ],
   "source": [
    "dico={}\n",
    "n=8\n",
    "for i in range(1,n+1):\n",
    "    dico[i]=i*i\n",
    "\n",
    "print(dico)"
   ]
  },
  {
   "cell_type": "code",
   "execution_count": 7,
   "id": "ebae48fb",
   "metadata": {},
   "outputs": [],
   "source": [
    "#Question 4"
   ]
  },
  {
   "cell_type": "code",
   "execution_count": 8,
   "id": "a53f8175",
   "metadata": {},
   "outputs": [
    {
     "name": "stdout",
     "output_type": "stream",
     "text": [
      "ktten\n",
      "itten\n",
      "kittn\n"
     ]
    }
   ],
   "source": [
    "def missing_char(s,n):\n",
    "    ss=\"\"\n",
    "    if n<=len(s)-1:\n",
    "        for i in range(len(s)):\n",
    "            if i!=n:\n",
    "                ss=ss+s[i]\n",
    "    return ss\n",
    "\n",
    "print(missing_char('kitten',1))\n",
    "print(missing_char('kitten',0))\n",
    "print(missing_char('kitten',4))\n",
    "            "
   ]
  },
  {
   "cell_type": "code",
   "execution_count": 9,
   "id": "dad4a350",
   "metadata": {},
   "outputs": [],
   "source": [
    "#Question 5"
   ]
  },
  {
   "cell_type": "code",
   "execution_count": 10,
   "id": "5241c5b1",
   "metadata": {},
   "outputs": [
    {
     "name": "stdout",
     "output_type": "stream",
     "text": [
      "[2, 21, 122]\n"
     ]
    }
   ],
   "source": [
    "import numpy as np\n",
    "my_array=np.array([2,21,122])\n",
    "\n",
    "def to_list(my_np_list):\n",
    "    l=[]\n",
    "    for e in my_np_list:\n",
    "        l.append(e)\n",
    "        \n",
    "    return l\n",
    "\n",
    "print(to_list(my_array))\n"
   ]
  },
  {
   "cell_type": "code",
   "execution_count": 11,
   "id": "b17b81ed",
   "metadata": {},
   "outputs": [
    {
     "data": {
      "text/plain": [
       "array([  2,  21, 122])"
      ]
     },
     "execution_count": 11,
     "metadata": {},
     "output_type": "execute_result"
    }
   ],
   "source": [
    "my_array"
   ]
  },
  {
   "cell_type": "code",
   "execution_count": 1,
   "id": "c548edd8",
   "metadata": {},
   "outputs": [],
   "source": [
    "#Question 6"
   ]
  },
  {
   "cell_type": "code",
   "execution_count": 2,
   "id": "ef6b7854-3630-4dbf-a236-d45831df9693",
   "metadata": {},
   "outputs": [
    {
     "data": {
      "text/plain": [
       "array([[ 1., -1.],\n",
       "       [-1.,  1.]])"
      ]
     },
     "execution_count": 2,
     "metadata": {},
     "output_type": "execute_result"
    }
   ],
   "source": [
    "import numpy as np\n",
    "array_1=np.array([0,1,2])\n",
    "array_2=np.array([2,1,0])\n",
    "cov=np.cov(array_1,array_2)\n",
    "cov\n"
   ]
  },
  {
   "cell_type": "code",
   "execution_count": 3,
   "id": "4bdad5f1-3850-4304-aead-907f0d253cb1",
   "metadata": {},
   "outputs": [],
   "source": [
    "#Question 7\n"
   ]
  },
  {
   "cell_type": "code",
   "execution_count": null,
   "id": "7118e3aa-6249-410c-a677-99d28049c66d",
   "metadata": {},
   "outputs": [],
   "source": [
    "# Q= Square root of [(2 * C * D)/H] \n",
    "#  C is 50. H is 30.\n",
    "\n",
    "from math import sqrt\n",
    "import sys\n",
    "\n",
    "D=sys.argv[1].split(',')\n",
    "\n",
    "def Q(d):\n",
    "    res=[]\n",
    "    C=50\n",
    "    H=30\n",
    "    q=sqrt((2*C*d)/H)\n",
    "    q=int(q)\n",
    "    print(q)\n",
    "        \n",
    "for d in D:\n",
    "    d=float(d)\n",
    "    Q(d)\n",
    "\n"
   ]
  }
 ],
 "metadata": {
  "kernelspec": {
   "display_name": "Python 3 (ipykernel)",
   "language": "python",
   "name": "python3"
  },
  "language_info": {
   "codemirror_mode": {
    "name": "ipython",
    "version": 3
   },
   "file_extension": ".py",
   "mimetype": "text/x-python",
   "name": "python",
   "nbconvert_exporter": "python",
   "pygments_lexer": "ipython3",
   "version": "3.11.3"
  }
 },
 "nbformat": 4,
 "nbformat_minor": 5
}
