{
 "cells": [
  {
   "cell_type": "code",
   "execution_count": null,
   "id": "d3f22eea-56c5-4bd6-96d9-1609e8bfc29d",
   "metadata": {},
   "outputs": [],
   "source": []
  }
 ],
 "metadata": {
  "kernelspec": {
   "display_name": "",
   "name": ""
  },
  "language_info": {
   "name": ""
  }
 },
 "nbformat": 4,
 "nbformat_minor": 5
}
